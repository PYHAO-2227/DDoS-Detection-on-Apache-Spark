{
 "cells": [
  {
   "cell_type": "code",
   "execution_count": 1,
   "id": "4e110d2c-a9b8-4339-8f85-5ca6e153e39e",
   "metadata": {},
   "outputs": [],
   "source": [
    "import pandas as pd\n",
    "import matplotlib.pyplot as plt\n",
    "import seaborn as sns\n",
    "import time"
   ]
  },
  {
   "cell_type": "code",
   "execution_count": 2,
   "id": "1cdcb42f-681d-4987-8a1c-609c9cb250db",
   "metadata": {},
   "outputs": [
    {
     "name": "stdout",
     "output_type": "stream",
     "text": [
      "['Dst Port', 'Protocol', 'Timestamp', 'Flow Duration', 'Tot Fwd Pkts', 'Tot Bwd Pkts', 'TotLen Fwd Pkts', 'TotLen Bwd Pkts', 'Fwd Pkt Len Max', 'Fwd Pkt Len Min', 'Fwd Pkt Len Mean', 'Fwd Pkt Len Std', 'Bwd Pkt Len Max', 'Bwd Pkt Len Min', 'Bwd Pkt Len Mean', 'Bwd Pkt Len Std', 'Flow Byts/s', 'Flow Pkts/s', 'Flow IAT Mean', 'Flow IAT Std', 'Flow IAT Max', 'Flow IAT Min', 'Fwd IAT Tot', 'Fwd IAT Mean', 'Fwd IAT Std', 'Fwd IAT Max', 'Fwd IAT Min', 'Bwd IAT Tot', 'Bwd IAT Mean', 'Bwd IAT Std', 'Bwd IAT Max', 'Bwd IAT Min', 'Fwd PSH Flags', 'Bwd PSH Flags', 'Fwd URG Flags', 'Bwd URG Flags', 'Fwd Header Len', 'Bwd Header Len', 'Fwd Pkts/s', 'Bwd Pkts/s', 'Pkt Len Min', 'Pkt Len Max', 'Pkt Len Mean', 'Pkt Len Std', 'Pkt Len Var', 'FIN Flag Cnt', 'SYN Flag Cnt', 'RST Flag Cnt', 'PSH Flag Cnt', 'ACK Flag Cnt', 'URG Flag Cnt', 'CWE Flag Count', 'ECE Flag Cnt', 'Down/Up Ratio', 'Pkt Size Avg', 'Fwd Seg Size Avg', 'Bwd Seg Size Avg', 'Fwd Byts/b Avg', 'Fwd Pkts/b Avg', 'Fwd Blk Rate Avg', 'Bwd Byts/b Avg', 'Bwd Pkts/b Avg', 'Bwd Blk Rate Avg', 'Subflow Fwd Pkts', 'Subflow Fwd Byts', 'Subflow Bwd Pkts', 'Subflow Bwd Byts', 'Init Fwd Win Byts', 'Init Bwd Win Byts', 'Fwd Act Data Pkts', 'Fwd Seg Size Min', 'Active Mean', 'Active Std', 'Active Max', 'Active Min', 'Idle Mean', 'Idle Std', 'Idle Max', 'Idle Min', 'Label']\n"
     ]
    }
   ],
   "source": [
    "#print(df.describe())\n",
    "df = pd.read_csv('02-21-2018.csv')\n",
    "feature_names = df.columns\n",
    "feature_list = list(feature_names)\n",
    "print(feature_list)"
   ]
  },
  {
   "cell_type": "markdown",
   "id": "548eed6d-f3b7-4b9f-8c99-84955585d91c",
   "metadata": {},
   "source": [
    "Method 1: 基础算法，人工筛选一些features，算阈值，进行检测判断"
   ]
  },
  {
   "cell_type": "code",
   "execution_count": 3,
   "id": "d1eb8840-2cc4-48ba-9f66-216654166410",
   "metadata": {},
   "outputs": [
    {
     "name": "stdout",
     "output_type": "stream",
     "text": [
      "Flow Pkts/s‘s the 95th-percentile: 5988.023952\n",
      "Flow Byts/s‘s the 95th-percentile: 1056199.822\n",
      "Fwd Pkt Len Max‘s the 95th-percentile: 935.0\n",
      "SYN Flag Cnt‘s the 95th-percentile: 0.0\n",
      "Tot Fwd Pkts‘s the 95th-percentile: 5.0\n",
      "Init Fwd Win Byts‘s the 95th-percentile: 65535.0\n",
      "Fwd IAT Tot‘s the 95th-percentile: 29042.0\n",
      "Pkt Size Avg‘s the 95th-percentile: 182.0\n",
      "Flow Duration‘s the 95th-percentile: 29635.0\n",
      "Fwd Pkts/s‘s the 95th-percentile: 4258.943782\n",
      "PSH Flag Cnt‘s the 95th-percentile: 1.0\n",
      "Fwd PSH Flags‘s the 95th-percentile: 0.0\n",
      "CPU times: user 47.8 s, sys: 1.75 s, total: 49.5 s\n",
      "Wall time: 49.5 s\n"
     ]
    }
   ],
   "source": [
    "%%time\n",
    "df = pd.read_csv('02-21-2018.csv')\n",
    "df_ddos_true = df[df['Label'].str.contains(\"DDOS\", case=False)]\n",
    "\n",
    "# 指定的特征\n",
    "features = ['Flow Pkts/s', 'Flow Byts/s', 'Fwd Pkt Len Max', 'SYN Flag Cnt', 'Tot Fwd Pkts', 'Init Fwd Win Byts', 'Fwd IAT Tot', 'Pkt Size Avg', 'Flow Duration', 'Fwd Pkts/s', 'PSH Flag Cnt', 'Fwd PSH Flags', 'Fwd Pkt Len Max']\n",
    "\n",
    "# 动态计算阈值并保存到字典中\n",
    "thresholds = {feature: df[feature].quantile(0.95) for feature in features}\n",
    "\n",
    "# 打印计算出的95%分位数阈值，确保正确无误\n",
    "for feature, threshold in thresholds.items():\n",
    "    print(f\"{feature}‘s the 95th-percentile: {threshold}\")\n",
    "\n",
    "# 标记可能的DDoS攻击\n",
    "df['is_ddos_pred'] = df.apply(lambda row: sum(row[feature] > thresholds[feature] for feature in thresholds) >= 1, axis=1)"
   ]
  },
  {
   "cell_type": "code",
   "execution_count": 4,
   "id": "b5234eec-b661-4402-bd86-4bab86838ca4",
   "metadata": {},
   "outputs": [
    {
     "name": "stdout",
     "output_type": "stream",
     "text": [
      "真正例 (正确识别的DDoS): 59629\n",
      "假正例 (错误标记为DDoS): 94212\n",
      "假负例 (未识别的DDoS): 628113\n",
      "精确率 (Precision): 0.3876\n",
      "召回率 (Recall): 0.0867 (8.67%)\n",
      "F1分数 (F1 Score): 0.1417\n",
      "准确率 (Accuracy): 0.3111\n",
      "特异性 (Specificity): 0.7389\n",
      "\n",
      "总结：我们的算法在原始数据集中找到了被标记为DDoS的流量的 8.67%。\n"
     ]
    }
   ],
   "source": [
    "# 提取索引集合\n",
    "true_ddos_indices = set(df_ddos_true.index)\n",
    "predicted_ddos_indices = set(df[df['is_ddos_pred'] == True].index)\n",
    "all_indices = set(df.index)\n",
    "\n",
    "# 计算指标\n",
    "true_positives = len(true_ddos_indices & predicted_ddos_indices)\n",
    "false_positives = len(predicted_ddos_indices - true_ddos_indices)\n",
    "false_negatives = len(true_ddos_indices - predicted_ddos_indices)\n",
    "true_negatives = len(all_indices - true_ddos_indices - predicted_ddos_indices)\n",
    "\n",
    "precision = true_positives / (true_positives + false_positives) if (true_positives + false_positives) > 0 else 0\n",
    "recall = true_positives / (true_positives + false_negatives) if (true_positives + false_negatives) > 0 else 0\n",
    "accuracy = (true_positives + true_negatives) / len(all_indices) if len(all_indices) > 0 else 0\n",
    "specificity = true_negatives / (true_negatives + false_positives) if (true_negatives + false_positives) > 0 else 0\n",
    "f1_score = 2 * (precision * recall) / (precision + recall) if (precision + recall) > 0 else 0\n",
    "\n",
    "# 真正例占被标记为DDoS流量的百分比（即召回率）\n",
    "recall_percentage = recall * 100\n",
    "# 打印结果\n",
    "print(f\"真正例 (正确识别的DDoS): {true_positives}\")\n",
    "print(f\"假正例 (错误标记为DDoS): {false_positives}\")\n",
    "print(f\"假负例 (未识别的DDoS): {false_negatives}\")\n",
    "# 打印统计学指标\n",
    "print(f\"精确率 (Precision): {precision:.4f}\")\n",
    "print(f\"召回率 (Recall): {recall:.4f} ({recall_percentage:.2f}%)\")\n",
    "print(f\"F1分数 (F1 Score): {f1_score:.4f}\")\n",
    "print(f\"准确率 (Accuracy): {accuracy:.4f}\")\n",
    "print(f\"特异性 (Specificity): {specificity:.4f}\")\n",
    "\n",
    "# 总结\n",
    "print(f\"\\n总结：我们的算法在原始数据集中找到了被标记为DDoS的流量的 {recall_percentage:.2f}%。\")"
   ]
  },
  {
   "cell_type": "markdown",
   "id": "fc1ef31b-e593-41f3-90a3-0b5f62a0a5ee",
   "metadata": {},
   "source": [
    "Method 2: 根据不同DDOS攻击类型的特性，分别设置识别条件"
   ]
  },
  {
   "cell_type": "code",
   "execution_count": null,
   "id": "8785364d-1452-4e63-8961-16ad37e8c224",
   "metadata": {},
   "outputs": [],
   "source": [
    "%%time\n",
    "df = pd.read_csv('02-21-2018.csv')\n",
    "\n",
    "# 假设已经有了筛选出真实DDoS标签的数据\n",
    "df_ddos_true = df[df['Label'].str.contains(\"DDOS\", case=False)]\n",
    "\n",
    "# 指定的特征和基于攻击类型的动态阈值设置\n",
    "features = ['Flow Pkts/s', 'Flow Byts/s', 'Fwd Pkt Len Max', 'SYN Flag Cnt', \n",
    "            'Tot Fwd Pkts', 'Init Fwd Win Byts', 'Fwd IAT Tot', 'Pkt Size Avg', \n",
    "            'Flow Duration', 'Fwd Pkts/s', 'PSH Flag Cnt', 'Fwd PSH Flags', \n",
    "            'Fwd Pkt Len Max']\n",
    "\n",
    "# 动态计算95%分位数作为阈值\n",
    "thresholds = {feature: df[feature].quantile(0.95) for feature in features}\n",
    "\n",
    "# 根据不同的攻击特点调整阈值\n",
    "# 注意：这里的阈值需要根据具体数据和攻击行为进行调整\n",
    "# 例如，LOIC-UDP可能导致特别高的Flow Pkts/s，而HOIC可能导致高SYN Flag Cnt\n",
    "# 这里仅提供一种基于现有特征调整阈值的示例方法\n",
    "attack_type_adjustments = {\n",
    "    'Flow Pkts/s': 1.2,  # 假设LOIC-UDP会导致更高的包速率\n",
    "    'SYN Flag Cnt': 1.5,  # 假设HOIC攻击会有更多的SYN标志\n",
    "}\n",
    "\n",
    "# 应用调整\n",
    "for feature, adjustment in attack_type_adjustments.items():\n",
    "    if feature in thresholds:\n",
    "        thresholds[feature] *= adjustment\n",
    "\n",
    "# 标记可能的DDoS攻击\n",
    "df['is_ddos_pred'] = df.apply(lambda row: sum(row[feature] > thresholds[feature] for feature in features) >= 2, axis=1)"
   ]
  },
  {
   "cell_type": "code",
   "execution_count": null,
   "id": "e659d543-4460-4713-9004-17195d2d6f32",
   "metadata": {},
   "outputs": [],
   "source": [
    "# 提取索引集合\n",
    "true_ddos_indices = set(df_ddos_true.index)\n",
    "predicted_ddos_indices = set(df[df['is_ddos_pred'] == True].index)\n",
    "all_indices = set(df.index)\n",
    "\n",
    "# 计算指标\n",
    "true_positives = len(true_ddos_indices & predicted_ddos_indices)\n",
    "false_positives = len(predicted_ddos_indices - true_ddos_indices)\n",
    "false_negatives = len(true_ddos_indices - predicted_ddos_indices)\n",
    "true_negatives = len(all_indices - true_ddos_indices - predicted_ddos_indices)\n",
    "\n",
    "precision = true_positives / (true_positives + false_positives) if (true_positives + false_positives) > 0 else 0\n",
    "recall = true_positives / (true_positives + false_negatives) if (true_positives + false_negatives) > 0 else 0\n",
    "accuracy = (true_positives + true_negatives) / len(all_indices) if len(all_indices) > 0 else 0\n",
    "specificity = true_negatives / (true_negatives + false_positives) if (true_negatives + false_positives) > 0 else 0\n",
    "f1_score = 2 * (precision * recall) / (precision + recall) if (precision + recall) > 0 else 0\n",
    "\n",
    "# 真正例占被标记为DDoS流量的百分比（即召回率）\n",
    "recall_percentage = recall * 100\n",
    "# 打印结果\n",
    "print(f\"真正例 (正确识别的DDoS): {true_positives}\")\n",
    "print(f\"假正例 (错误标记为DDoS): {false_positives}\")\n",
    "print(f\"假负例 (未识别的DDoS): {false_negatives}\")\n",
    "# 打印统计学指标\n",
    "print(f\"精确率 (Precision): {precision:.4f}\")\n",
    "print(f\"召回率 (Recall): {recall:.4f} ({recall_percentage:.2f}%)\")\n",
    "print(f\"F1分数 (F1 Score): {f1_score:.4f}\")\n",
    "print(f\"准确率 (Accuracy): {accuracy:.4f}\")\n",
    "print(f\"特异性 (Specificity): {specificity:.4f}\")\n",
    "\n",
    "# 总结\n",
    "print(f\"\\n总结：我们的算法在原始数据集中找到了被标记为DDoS的流量的 {recall_percentage:.2f}%。\")"
   ]
  },
  {
   "cell_type": "code",
   "execution_count": null,
   "id": "20b550b4-fee7-4aa3-9308-ab3a3257f154",
   "metadata": {},
   "outputs": [],
   "source": []
  }
 ],
 "metadata": {
  "kernelspec": {
   "display_name": "Python 3 (ipykernel)",
   "language": "python",
   "name": "python3"
  },
  "language_info": {
   "codemirror_mode": {
    "name": "ipython",
    "version": 3
   },
   "file_extension": ".py",
   "mimetype": "text/x-python",
   "name": "python",
   "nbconvert_exporter": "python",
   "pygments_lexer": "ipython3",
   "version": "3.10.12"
  }
 },
 "nbformat": 4,
 "nbformat_minor": 5
}
